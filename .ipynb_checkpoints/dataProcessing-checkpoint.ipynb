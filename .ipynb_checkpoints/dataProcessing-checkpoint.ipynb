{
 "cells": [
  {
   "cell_type": "code",
   "execution_count": 46,
   "metadata": {},
   "outputs": [],
   "source": [
    "import numpy as np\n",
    "import pandas as pd\n",
    "from pandas import DataFrame as DF, Series as Se\n",
    "from sklearn.externals import joblib\n",
    "from sklearn.ensemble import RandomForestRegressor\n",
    "from sklearn.linear_model import LinearRegression\n",
    "from sklearn.model_selection import GridSearchCV\n",
    "from sklearn.externals import joblib"
   ]
  },
  {
   "cell_type": "code",
   "execution_count": 47,
   "metadata": {},
   "outputs": [],
   "source": [
    "# data file path\n",
    "FILE_TRAIN = 'data/train.csv'\n",
    "FILE_TEST = 'data/test.csv'"
   ]
  },
  {
   "cell_type": "code",
   "execution_count": 48,
   "metadata": {},
   "outputs": [],
   "source": [
    "# combine the train and test set\n",
    "df_train = pd.read_csv(FILE_TRAIN)\n",
    "df_test = pd.read_csv(FILE_TEST)\n",
    "TRAIN_SIZE = df_train.shape[0]\n",
    "df = df_train[df_test.columns].append(df_test)"
   ]
  },
  {
   "cell_type": "code",
   "execution_count": 49,
   "metadata": {},
   "outputs": [
    {
     "data": {
      "text/plain": [
       "Index(['id', 'is_free', 'price', 'genres', 'categories', 'tags',\n",
       "       'purchase_date', 'release_date', 'total_positive_reviews',\n",
       "       'total_negative_reviews'],\n",
       "      dtype='object')"
      ]
     },
     "execution_count": 49,
     "metadata": {},
     "output_type": "execute_result"
    }
   ],
   "source": [
    "df.columns"
   ]
  },
  {
   "cell_type": "code",
   "execution_count": 50,
   "metadata": {},
   "outputs": [],
   "source": [
    "# get unique words of 'genres', 'category' and 'tag'\n",
    "genres = []\n",
    "category = []\n",
    "tag = []\n",
    "for x in df['genres']:\n",
    "    tmp = x.split(',')\n",
    "    for y in tmp:\n",
    "        if y not in genres:\n",
    "            genres.append(y)\n",
    "for x in df['categories']:\n",
    "    tmp = x.split(',')\n",
    "    for y in tmp:\n",
    "        if y not in category:\n",
    "            category.append(y)\n",
    "for x in df['tags']:\n",
    "    tmp = x.split(',')\n",
    "    for y in tmp:\n",
    "        if y not in tag:\n",
    "            tag.append(y)"
   ]
  },
  {
   "cell_type": "code",
   "execution_count": 51,
   "metadata": {},
   "outputs": [],
   "source": [
    "# one-hot encoding\n",
    "def getDummies(colname ,tlist):\n",
    "    for x in tlist:\n",
    "        tmp = []\n",
    "        for y in df[colname]:\n",
    "            if x in y:\n",
    "                tmp.append(1)\n",
    "            else:\n",
    "                tmp.append(0)\n",
    "        if sum(tmp) < 5:\n",
    "            continue\n",
    "        df[x] = tmp\n",
    "    df.drop([colname], axis=1, inplace=True)"
   ]
  },
  {
   "cell_type": "code",
   "execution_count": 52,
   "metadata": {},
   "outputs": [],
   "source": [
    "# one-hot encoding for 'genres' and 'category'\n",
    "getDummies('genres', genres)\n",
    "getDummies('categories', category)"
   ]
  },
  {
   "cell_type": "code",
   "execution_count": 53,
   "metadata": {},
   "outputs": [],
   "source": [
    "import re\n",
    "import nltk\n",
    "from gensim.models import word2vec\n",
    "from sklearn.feature_extraction.text import TfidfVectorizer"
   ]
  },
  {
   "cell_type": "code",
   "execution_count": 54,
   "metadata": {},
   "outputs": [],
   "source": [
    "wpt = nltk.WordPunctTokenizer()\n",
    "sw = nltk.corpus.stopwords.words('english')"
   ]
  },
  {
   "cell_type": "code",
   "execution_count": 55,
   "metadata": {},
   "outputs": [
    {
     "data": {
      "text/plain": [
       "0    Indie,Adventure,Story Rich,Casual,Atmospheric,...\n",
       "1    Mod,Utilities,RPG,Game Development,Singleplaye...\n",
       "2    Point & Click,Adventure,Story Rich,Comedy,Indi...\n",
       "3    Medieval,RPG,Open World,Strategy,Sandbox,Actio...\n",
       "4    Tower Defense,Co-op,Action,Strategy,Online Co-...\n",
       "5    RPG,Open World,Survival,Co-op,Fantasy,Online C...\n",
       "6    Great Soundtrack,Action,Violent,Indie,Top-Down...\n",
       "7                  VR,Simulation,Utilities,Multiplayer\n",
       "8    RPG,Turn-Based,Adventure,Fantasy,Great Soundtr...\n",
       "9    Action,Adventure,VR,Shooter,Puzzle,FPS,First-P...\n",
       "Name: tags, dtype: object"
      ]
     },
     "execution_count": 55,
     "metadata": {},
     "output_type": "execute_result"
    }
   ],
   "source": [
    "df['tags'][:10]"
   ]
  },
  {
   "cell_type": "code",
   "execution_count": 56,
   "metadata": {},
   "outputs": [],
   "source": [
    "# preset the valid word set\n",
    "valid_word = [\"a\",\"b\",\"c\",\"d\",\"e\",\"f\",\"g\",\"h\",\"i\",\"j\",\"k\",\"l\",\"m\",\"n\",\n",
    "              \"o\",\"p\",\"q\",\"r\",\"s\",\"t\",\"u\",\"v\",\"w\",\"x\",\"y\",\"z\",\"A\",\"B\",\n",
    "              \"C\",\"D\",\"E\",\"F\",\"G\",\"H\",\"I\",\"J\",\"K\",\"L\",\"M\",\"N\",\"O\",\"P\",\n",
    "              \"Q\",\"R\",\"S\",\"T\",\"U\",\"V\",\"W\",\"X\",\"Y\",\"Z\",\"0\",\"1\",\"2\",\"3\",\n",
    "              \"4\",\"5\",\"6\",\"7\",\"8\",\"9\", '-',' ',',']\n",
    "single_lower = [\"a\",\"b\",\"c\",\"d\",\"e\",\"f\",\"g\",\"h\",\"i\",\"j\",\"k\",\"l\",\"m\",\"n\"\n",
    "                ,\"o\",\"p\",\"q\",\"r\",\"s\",\"t\",\"u\",\"v\",\"w\",\"x\",\"y\",\"z\"]"
   ]
  },
  {
   "cell_type": "code",
   "execution_count": 57,
   "metadata": {},
   "outputs": [],
   "source": [
    "# spliting tag from tags\n",
    "tag_text = []\n",
    "for x in df['tags']:\n",
    "    tmp = ''\n",
    "    for y in x:\n",
    "        if y in valid_word:\n",
    "            tmp = tmp + y\n",
    "    tmp = tmp.lower()\n",
    "    tmp = tmp.replace(',',' ')\n",
    "    tag_text.append(tmp)"
   ]
  },
  {
   "cell_type": "code",
   "execution_count": 58,
   "metadata": {},
   "outputs": [],
   "source": [
    "# use tf-idf to find most valuable tags\n",
    "tfidf = TfidfVectorizer(min_df=0.25, max_df=0.75, use_idf=True)\n",
    "tfidf_matrix = tfidf.fit_transform(tag_text)\n",
    "tfidf_matrix = tfidf_matrix.toarray()\n",
    "vocab = tfidf.get_feature_names()\n",
    "vocab = ['tag_' + x for x in vocab]\n",
    "len(vocab)"
   ]
  },
  {
   "cell_type": "code",
   "execution_count": 61,
   "metadata": {},
   "outputs": [
    {
     "data": {
      "text/plain": [
       "['tag_action',\n",
       " 'tag_atmospheric',\n",
       " 'tag_co',\n",
       " 'tag_fantasy',\n",
       " 'tag_fi',\n",
       " 'tag_great',\n",
       " 'tag_indie',\n",
       " 'tag_multiplayer',\n",
       " 'tag_op',\n",
       " 'tag_open',\n",
       " 'tag_person',\n",
       " 'tag_rich',\n",
       " 'tag_rpg',\n",
       " 'tag_sci',\n",
       " 'tag_soundtrack',\n",
       " 'tag_story',\n",
       " 'tag_strategy',\n",
       " 'tag_world']"
      ]
     },
     "execution_count": 61,
     "metadata": {},
     "output_type": "execute_result"
    }
   ],
   "source": [
    "vocab"
   ]
  },
  {
   "cell_type": "code",
   "execution_count": 62,
   "metadata": {},
   "outputs": [],
   "source": [
    "df_tfidf = DF(np.round(tfidf_matrix, 2), columns=vocab)\n",
    "df.drop('tags', axis=1, inplace=True)\n",
    "df[df_tfidf.columns] = df_tfidf"
   ]
  },
  {
   "cell_type": "code",
   "execution_count": 65,
   "metadata": {},
   "outputs": [
    {
     "name": "stdout",
     "output_type": "stream",
     "text": [
      "<class 'pandas.core.frame.DataFrame'>\n",
      "Int64Index: 447 entries, 0 to 89\n",
      "Data columns (total 67 columns):\n",
      "id                            447 non-null int64\n",
      "is_free                       447 non-null bool\n",
      "price                         447 non-null float64\n",
      "purchase_date                 443 non-null object\n",
      "release_date                  447 non-null object\n",
      "total_positive_reviews        443 non-null float64\n",
      "total_negative_reviews        443 non-null float64\n",
      "Adventure                     447 non-null int64\n",
      "Casual                        447 non-null int64\n",
      "Indie                         447 non-null int64\n",
      "RPG                           447 non-null int64\n",
      "Action                        447 non-null int64\n",
      "Strategy                      447 non-null int64\n",
      "Simulation                    447 non-null int64\n",
      "Sports                        447 non-null int64\n",
      "Massively Multiplayer         447 non-null int64\n",
      "Violent                       447 non-null int64\n",
      "Free to Play                  447 non-null int64\n",
      "Early Access                  447 non-null int64\n",
      "Gore                          447 non-null int64\n",
      "Nudity                        447 non-null int64\n",
      "Single-player                 447 non-null int64\n",
      "Steam Trading Cards           447 non-null int64\n",
      "Steam Cloud                   447 non-null int64\n",
      "Partial Controller Support    447 non-null int64\n",
      "Full controller support       447 non-null int64\n",
      "Multi-player                  447 non-null int64\n",
      "Steam Achievements            447 non-null int64\n",
      "Steam Workshop                447 non-null int64\n",
      "Co-op                         447 non-null int64\n",
      "Steam Leaderboards            447 non-null int64\n",
      "Online Co-op                  447 non-null int64\n",
      "Local Co-op                   447 non-null int64\n",
      "Shared/Split Screen           447 non-null int64\n",
      "Stats                         447 non-null int64\n",
      "Online Multi-Player           447 non-null int64\n",
      "Cross-Platform Multiplayer    447 non-null int64\n",
      "SteamVR Collectibles          447 non-null int64\n",
      "Local Multi-Player            447 non-null int64\n",
      "Remote Play on Phone          447 non-null int64\n",
      "Remote Play on Tablet         447 non-null int64\n",
      "Remote Play on TV             447 non-null int64\n",
      "Valve Anti-Cheat enabled      447 non-null int64\n",
      "Commentary available          447 non-null int64\n",
      "Captions available            447 non-null int64\n",
      "Includes level editor         447 non-null int64\n",
      "In-App Purchases              447 non-null int64\n",
      "VR Support                    447 non-null int64\n",
      "MMO                           447 non-null int64\n",
      "tag_action                    447 non-null float64\n",
      "tag_atmospheric               447 non-null float64\n",
      "tag_co                        447 non-null float64\n",
      "tag_fantasy                   447 non-null float64\n",
      "tag_fi                        447 non-null float64\n",
      "tag_great                     447 non-null float64\n",
      "tag_indie                     447 non-null float64\n",
      "tag_multiplayer               447 non-null float64\n",
      "tag_op                        447 non-null float64\n",
      "tag_open                      447 non-null float64\n",
      "tag_person                    447 non-null float64\n",
      "tag_rich                      447 non-null float64\n",
      "tag_rpg                       447 non-null float64\n",
      "tag_sci                       447 non-null float64\n",
      "tag_soundtrack                447 non-null float64\n",
      "tag_story                     447 non-null float64\n",
      "tag_strategy                  447 non-null float64\n",
      "tag_world                     447 non-null float64\n",
      "dtypes: bool(1), float64(21), int64(43), object(2)\n",
      "memory usage: 234.4+ KB\n"
     ]
    }
   ],
   "source": [
    "df.info()"
   ]
  },
  {
   "cell_type": "code",
   "execution_count": 66,
   "metadata": {},
   "outputs": [],
   "source": [
    "# processing date data\n",
    "p_date = df['purchase_date']\n",
    "r_data = df['release_date']"
   ]
  },
  {
   "cell_type": "code",
   "execution_count": 67,
   "metadata": {},
   "outputs": [],
   "source": [
    "p_ts = [pd.Timestamp(x) for x in p_date]\n",
    "r_ts = [pd.Timestamp(x) for x in r_data]\n",
    "df.drop(['release_date','purchase_date'],axis=1,inplace=True)\n",
    "df['p_timestamp'] = p_ts\n",
    "df['r_timestamp'] = r_ts\n",
    "df['pyear'] = df['p_timestamp'].apply(lambda d : d.year)\n",
    "df['pmonth'] = df['p_timestamp'].apply(lambda d : d.month)\n",
    "df['pday'] = df['p_timestamp'].apply(lambda d : d.day)\n",
    "df['ryear'] = df['r_timestamp'].apply(lambda d : d.year)\n",
    "df['rmonth'] = df['r_timestamp'].apply(lambda d : d.month)\n",
    "df['rday'] = df['r_timestamp'].apply(lambda d : d.day)\n",
    "df['pyear'].fillna(df.pyear.mode(), inplace=True)\n",
    "df['ryear'].fillna(df.ryear.mode(), inplace=True)\n",
    "df['pmonth'].fillna(df.pmonth.mode(), inplace=True)\n",
    "df['rmonth'].fillna(df.rmonth.mode(), inplace=True)\n",
    "df['pday'].fillna(df.pday.mode(), inplace=True)\n",
    "df['rday'].fillna(df.rday.mode(), inplace=True)"
   ]
  },
  {
   "cell_type": "code",
   "execution_count": 83,
   "metadata": {},
   "outputs": [],
   "source": [
    "# adding delta time from release date to purchase date\n",
    "delta_days = []\n",
    "for x in range(df.shape[0]):\n",
    "    d = list(df.p_timestamp)[x] - list(df.r_timestamp)[x]\n",
    "    delta_days.append(d.days)\n",
    "df['delta_days'] = delta_days\n",
    "df['delta_days'].fillna(0, inplace=True)"
   ]
  },
  {
   "cell_type": "code",
   "execution_count": 93,
   "metadata": {},
   "outputs": [],
   "source": [
    "df.drop(['p_timestamp','r_timestamp'],axis=1,inplace=True)"
   ]
  },
  {
   "cell_type": "code",
   "execution_count": 89,
   "metadata": {},
   "outputs": [],
   "source": [
    "# adding a feature named 'scores' generated by 'total_positive_reviews' and 'total_negative_reviews'\n",
    "df['scores'] = df['total_positive_reviews'] / (df['total_positive_reviews'] + df['total_negative_reviews']) * 100"
   ]
  },
  {
   "cell_type": "code",
   "execution_count": 90,
   "metadata": {},
   "outputs": [],
   "source": [
    "# fill in -1\n",
    "df.fillna(-1, inplace=True)"
   ]
  },
  {
   "cell_type": "code",
   "execution_count": 94,
   "metadata": {},
   "outputs": [
    {
     "name": "stderr",
     "output_type": "stream",
     "text": [
      "/anaconda3/lib/python3.6/site-packages/ipykernel_launcher.py:5: SettingWithCopyWarning: \n",
      "A value is trying to be set on a copy of a slice from a DataFrame.\n",
      "Try using .loc[row_indexer,col_indexer] = value instead\n",
      "\n",
      "See the caveats in the documentation: http://pandas.pydata.org/pandas-docs/stable/indexing.html#indexing-view-versus-copy\n",
      "  \"\"\"\n"
     ]
    }
   ],
   "source": [
    "# spliting dataset to train and test\n",
    "time = df_train['playtime_forever']\n",
    "df_train = df[:TRAIN_SIZE]\n",
    "df_test = df[TRAIN_SIZE:]\n",
    "df_train['playtime_forever'] = time"
   ]
  },
  {
   "cell_type": "code",
   "execution_count": 95,
   "metadata": {},
   "outputs": [],
   "source": [
    "# saving data to csv files\n",
    "df_train.to_csv('data/fix_train.csv')\n",
    "df_test.to_csv('data/fix_test.csv')"
   ]
  },
  {
   "cell_type": "code",
   "execution_count": null,
   "metadata": {},
   "outputs": [],
   "source": []
  }
 ],
 "metadata": {
  "kernelspec": {
   "display_name": "Python 3",
   "language": "python",
   "name": "python3"
  },
  "language_info": {
   "codemirror_mode": {
    "name": "ipython",
    "version": 3
   },
   "file_extension": ".py",
   "mimetype": "text/x-python",
   "name": "python",
   "nbconvert_exporter": "python",
   "pygments_lexer": "ipython3",
   "version": "3.6.5"
  }
 },
 "nbformat": 4,
 "nbformat_minor": 2
}
